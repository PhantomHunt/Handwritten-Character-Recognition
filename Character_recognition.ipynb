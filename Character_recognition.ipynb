{
 "cells": [
  {
   "cell_type": "markdown",
   "metadata": {
    "colab_type": "text",
    "id": "eBVbjRVe3Lof"
   },
   "source": [
    "## Convolutional Neural Networks (CNNs)"
   ]
  },
  {
   "cell_type": "code",
   "execution_count": null,
   "metadata": {
    "colab": {
     "base_uri": "https://localhost:8080/",
     "height": 992
    },
    "colab_type": "code",
    "id": "qYadXG886hY-",
    "outputId": "fb5c1a68-bf3d-4b70-ab1e-32e3e3ed148d"
   },
   "outputs": [],
   "source": [
    "# %tensorflow_version 2.x\n",
    "# !pip uninstall -y tensorflow\n",
    "# !pip install tensorflow\n",
    "# !pip install tensorflow-gpu==2.0.0-beta1\n",
    "# !pip install tensorflow==2.1.0"
   ]
  },
  {
   "cell_type": "markdown",
   "metadata": {
    "colab_type": "text",
    "id": "GRoMwNng6cvU"
   },
   "source": [
    "### Import TensorFlow"
   ]
  },
  {
   "cell_type": "code",
   "execution_count": 45,
   "metadata": {},
   "outputs": [],
   "source": [
    "import tensorflow as tf\n",
    "import numpy as np\n",
    "import matplotlib.pyplot as plt\n",
    "import matplotlib.image as mpimg\n",
    "\n",
    "from tensorflow.keras import datasets, layers, models\n",
    "import datetime\n",
    "import os\n"
   ]
  },
  {
   "cell_type": "code",
   "execution_count": 2,
   "metadata": {
    "colab": {
     "base_uri": "https://localhost:8080/",
     "height": 245
    },
    "colab_type": "code",
    "id": "zR7g_efY6wBh",
    "outputId": "1b22cdad-6e15-458b-ec60-1af9fd9fc3ca"
   },
   "outputs": [
    {
     "name": "stdout",
     "output_type": "stream",
     "text": [
      "Before reshaping\n",
      "================\n",
      "Number of axes in train_images:  3\n",
      "Number of axes in test_images:  3\n",
      "Shape of train_images:  (60000, 28, 28)\n",
      "Shape of test_images:  (10000, 28, 28)\n",
      "\n",
      "After reshaping:\n",
      "================\n",
      "Number of axes in train_images:  4\n",
      "Number of axes in test_images:  4\n",
      "Shape of train_images:  (60000, 28, 28, 1)\n",
      "Shape of test_images:  (10000, 28, 28, 1)\n",
      "\n"
     ]
    }
   ],
   "source": [
    "(train_images, train_labels), (test_images, test_labels) = datasets.mnist.load_data()\n",
    "\n",
    "#converting 3D tensor to 4D tensor\n",
    "print (\"Before reshaping\")\n",
    "print (\"================\")\n",
    "print (\"Number of axes in train_images: \", train_images.ndim)\n",
    "print (\"Number of axes in test_images: \", test_images.ndim)\n",
    "print (\"Shape of train_images: \", train_images.shape)\n",
    "print (\"Shape of test_images: \", test_images.shape)\n",
    "\n",
    "train_images = train_images.reshape((60000, 28, 28, 1))\n",
    "test_images = test_images.reshape((10000, 28, 28, 1))\n",
    "\n",
    "print (\"\\nAfter reshaping:\")\n",
    "print (\"================\")\n",
    "print (\"Number of axes in train_images: \", train_images.ndim)\n",
    "print (\"Number of axes in test_images: \", test_images.ndim)\n",
    "print (\"Shape of train_images: \", train_images.shape)\n",
    "print (\"Shape of test_images: \", test_images.shape)\n",
    "print ()\n",
    "\n",
    "# Normalize pixel values to be between 0 and 1\n",
    "train_images, test_images = train_images / 255.0, test_images / 255.0"
   ]
  },
  {
   "cell_type": "markdown",
   "metadata": {
    "colab_type": "text",
    "id": "BAwhGbkf8H-Q"
   },
   "source": [
    "### Create the convolutional base"
   ]
  },
  {
   "cell_type": "code",
   "execution_count": 3,
   "metadata": {
    "colab": {},
    "colab_type": "code",
    "id": "nN8T1dOR-bM7"
   },
   "outputs": [],
   "source": [
    "model = models.Sequential()"
   ]
  },
  {
   "cell_type": "markdown",
   "metadata": {
    "colab_type": "text",
    "id": "ZTf1QRLF-fQM"
   },
   "source": [
    "The 6 lines of code below define the convolutional base using a common pattern: a stack of Conv2D and MaxPooling2D layers.\n",
    "\n",
    "As input, a CNN takes tensors of shape (image_height, image_width, color_channels), ignoring the batch size."
   ]
  },
  {
   "cell_type": "code",
   "execution_count": 4,
   "metadata": {
    "colab": {},
    "colab_type": "code",
    "id": "b1FHaD0S_L3S"
   },
   "outputs": [],
   "source": [
    "model.add(layers.Conv2D(32, (3,3,), activation='relu', input_shape=(28, 28, 1)))"
   ]
  },
  {
   "cell_type": "code",
   "execution_count": 5,
   "metadata": {
    "colab": {},
    "colab_type": "code",
    "id": "qxgrtwdX_VQW"
   },
   "outputs": [],
   "source": [
    "model.add(layers.MaxPooling2D((2,2)))"
   ]
  },
  {
   "cell_type": "code",
   "execution_count": 6,
   "metadata": {
    "colab": {},
    "colab_type": "code",
    "id": "TdLX8D4o_drz"
   },
   "outputs": [],
   "source": [
    "model.add(layers.Conv2D(64, (3, 3), activation='relu'))\n",
    "model.add(layers.MaxPooling2D((2, 2)))"
   ]
  },
  {
   "cell_type": "code",
   "execution_count": 7,
   "metadata": {
    "colab": {},
    "colab_type": "code",
    "id": "RaHsqobx_-EO"
   },
   "outputs": [],
   "source": [
    "model.add(layers.Conv2D(64, (3, 3), activation='relu'))"
   ]
  },
  {
   "cell_type": "code",
   "execution_count": 8,
   "metadata": {
    "colab": {
     "base_uri": "https://localhost:8080/",
     "height": 310
    },
    "colab_type": "code",
    "id": "grOANO1hAH9w",
    "outputId": "5e5260ac-a46d-400f-bdc4-aac4046d9265"
   },
   "outputs": [
    {
     "name": "stdout",
     "output_type": "stream",
     "text": [
      "Model: \"sequential\"\n",
      "_________________________________________________________________\n",
      "Layer (type)                 Output Shape              Param #   \n",
      "=================================================================\n",
      "conv2d (Conv2D)              (None, 26, 26, 32)        320       \n",
      "_________________________________________________________________\n",
      "max_pooling2d (MaxPooling2D) (None, 13, 13, 32)        0         \n",
      "_________________________________________________________________\n",
      "conv2d_1 (Conv2D)            (None, 11, 11, 64)        18496     \n",
      "_________________________________________________________________\n",
      "max_pooling2d_1 (MaxPooling2 (None, 5, 5, 64)          0         \n",
      "_________________________________________________________________\n",
      "conv2d_2 (Conv2D)            (None, 3, 3, 64)          36928     \n",
      "=================================================================\n",
      "Total params: 55,744\n",
      "Trainable params: 55,744\n",
      "Non-trainable params: 0\n",
      "_________________________________________________________________\n"
     ]
    }
   ],
   "source": [
    "model.summary()\n",
    "#we did not use padding. for 2nd and 3rd convolution op, we used 64 filters each and in first used 32 filters. "
   ]
  },
  {
   "cell_type": "markdown",
   "metadata": {
    "colab_type": "text",
    "id": "YARxPpg3AKEc"
   },
   "source": [
    "To complete our model, we will feed the last output tensor from the convolutional base (of shape(3, 3, 64)) into one or more Dense layers to perform classification. Dense layers take vectors as input (which are 1D), while the current output in a 3D tensor. First, we will fatten (or unroll) the 3D output to 1D, then add one or more Dense layers on top. MNIST has 10 output classes, so we use final Dense layer with 10 ouputs and a softmax activation."
   ]
  },
  {
   "cell_type": "code",
   "execution_count": 9,
   "metadata": {
    "colab": {},
    "colab_type": "code",
    "id": "rf6--5aNA7Pq"
   },
   "outputs": [],
   "source": [
    "model.add(layers.Flatten())\n",
    "model.add(layers.Dense(64, activation='relu'))\n",
    "model.add(layers.Dense(10, activation='softmax'))"
   ]
  },
  {
   "cell_type": "code",
   "execution_count": 10,
   "metadata": {
    "colab": {
     "base_uri": "https://localhost:8080/",
     "height": 407
    },
    "colab_type": "code",
    "id": "LNVZfy3cBFMc",
    "outputId": "d8ca072e-4ea6-4b01-cad9-3649aec13600"
   },
   "outputs": [
    {
     "name": "stdout",
     "output_type": "stream",
     "text": [
      "Model: \"sequential\"\n",
      "_________________________________________________________________\n",
      "Layer (type)                 Output Shape              Param #   \n",
      "=================================================================\n",
      "conv2d (Conv2D)              (None, 26, 26, 32)        320       \n",
      "_________________________________________________________________\n",
      "max_pooling2d (MaxPooling2D) (None, 13, 13, 32)        0         \n",
      "_________________________________________________________________\n",
      "conv2d_1 (Conv2D)            (None, 11, 11, 64)        18496     \n",
      "_________________________________________________________________\n",
      "max_pooling2d_1 (MaxPooling2 (None, 5, 5, 64)          0         \n",
      "_________________________________________________________________\n",
      "conv2d_2 (Conv2D)            (None, 3, 3, 64)          36928     \n",
      "_________________________________________________________________\n",
      "flatten (Flatten)            (None, 576)               0         \n",
      "_________________________________________________________________\n",
      "dense (Dense)                (None, 64)                36928     \n",
      "_________________________________________________________________\n",
      "dense_1 (Dense)              (None, 10)                650       \n",
      "=================================================================\n",
      "Total params: 93,322\n",
      "Trainable params: 93,322\n",
      "Non-trainable params: 0\n",
      "_________________________________________________________________\n"
     ]
    }
   ],
   "source": [
    "model.summary()"
   ]
  },
  {
   "cell_type": "markdown",
   "metadata": {
    "colab_type": "text",
    "id": "nRdlBQBkBI6t"
   },
   "source": [
    "### Compile and train the model"
   ]
  },
  {
   "cell_type": "code",
   "execution_count": 13,
   "metadata": {
    "colab": {
     "base_uri": "https://localhost:8080/",
     "height": 212
    },
    "colab_type": "code",
    "id": "RM8s6VTuBn-y",
    "outputId": "0d783425-d28b-409e-a626-4239860119f8"
   },
   "outputs": [
    {
     "name": "stdout",
     "output_type": "stream",
     "text": [
      "Train on 60000 samples\n",
      "Epoch 1/5\n",
      "60000/60000 [==============================] - 44s 740us/sample - loss: 0.0178 - accuracy: 0.9944\n",
      "Epoch 2/5\n",
      "60000/60000 [==============================] - 43s 714us/sample - loss: 0.0119 - accuracy: 0.9964\n",
      "Epoch 3/5\n",
      "60000/60000 [==============================] - 43s 712us/sample - loss: 0.0118 - accuracy: 0.9962\n",
      "Epoch 4/5\n",
      "60000/60000 [==============================] - 44s 731us/sample - loss: 0.0098 - accuracy: 0.9968\n",
      "Epoch 5/5\n",
      "60000/60000 [==============================] - 42s 708us/sample - loss: 0.0086 - accuracy: 0.9973\n"
     ]
    },
    {
     "data": {
      "text/plain": [
       "<tensorflow.python.keras.callbacks.History at 0x226dfa62630>"
      ]
     },
     "execution_count": 13,
     "metadata": {},
     "output_type": "execute_result"
    }
   ],
   "source": [
    "model.compile(optimizer='adam',\n",
    "              loss='sparse_categorical_crossentropy',\n",
    "              metrics=['accuracy'])\n",
    "model.fit(train_images, train_labels, epochs=5)"
   ]
  },
  {
   "cell_type": "markdown",
   "metadata": {
    "colab_type": "text",
    "id": "9T3v0uY5B2B8"
   },
   "source": [
    "### Evaluate the model"
   ]
  },
  {
   "cell_type": "code",
   "execution_count": 14,
   "metadata": {},
   "outputs": [
    {
     "name": "stdout",
     "output_type": "stream",
     "text": [
      "60000/60000 [==============================] - 13s 223us/sample - loss: 0.0069 - accuracy: 0.9977\n",
      "99.76500272750854 %\n"
     ]
    }
   ],
   "source": [
    "train_loss, train_acc = model.evaluate(train_images, train_labels)\n",
    "print (train_acc*100, '%')"
   ]
  },
  {
   "cell_type": "code",
   "execution_count": 15,
   "metadata": {
    "colab": {
     "base_uri": "https://localhost:8080/",
     "height": 50
    },
    "colab_type": "code",
    "id": "OShqm9gGB-sQ",
    "outputId": "18f11d07-727f-4629-a7bc-ac246d48807a"
   },
   "outputs": [
    {
     "name": "stdout",
     "output_type": "stream",
     "text": [
      "10000/10000 [==============================] - 2s 241us/sample - loss: 0.0383 - accuracy: 0.9902\n",
      "99.01999831199646 %\n"
     ]
    }
   ],
   "source": [
    "test_loss, test_acc = model.evaluate(test_images, test_labels)\n",
    "print (test_acc*100, '%')"
   ]
  },
  {
   "cell_type": "markdown",
   "metadata": {
    "colab_type": "text",
    "id": "G0A0ikraIQJG"
   },
   "source": [
    "### Testing the model on extracted digits"
   ]
  },
  {
   "cell_type": "code",
   "execution_count": 16,
   "metadata": {
    "colab": {
     "base_uri": "https://localhost:8080/",
     "height": 33
    },
    "colab_type": "code",
    "id": "ZTkKuAhyEyQK",
    "outputId": "971ac61d-cea3-43b8-bc7a-3fdb8e8b903b"
   },
   "outputs": [],
   "source": [
    "# from google.colab import drive\n",
    "\n",
    "# drive.mount('/content/drive')"
   ]
  },
  {
   "cell_type": "code",
   "execution_count": 18,
   "metadata": {},
   "outputs": [
    {
     "data": {
      "image/png": "[encoded data removed]",
      "text/plain": [
       "<Figure size 432x288 with 1 Axes>"
      ]
     },
     "metadata": {
      "needs_background": "light"
     },
     "output_type": "display_data"
    },
    {
     "name": "stdout",
     "output_type": "stream",
     "text": [
      "[[1.3531864e-07 1.0247054e-05 5.6334211e-06 2.0652580e-04 2.1477669e-09\n",
      "  9.9964559e-01 1.0094062e-06 2.3815686e-05 3.0568560e-06 1.0407355e-04]]\n",
      "\n",
      "The number is:  5\n"
     ]
    }
   ],
   "source": [
    "def rgb2gray(rgb):\n",
    "  return np.dot(rgb[...,:3], [0.2989, 0.5870, 0.1140])\n",
    "\n",
    "\n",
    "img=mpimg.imread('C:/Users/Phantom/MajorProjectCode/images/extracted_images/mnist/0.png')\n",
    "# img = mpimg.imread('/content/drive/My Drive/Colab Notebooks/8.jpeg')\n",
    "# gray=np.invert(img)\n",
    "# gray = rgb2gray(gray)\n",
    "plt.imshow(img, cmap=plt.get_cmap('gray'))\n",
    "plt.show()\n",
    "# img.shape\n",
    "new_img = np.expand_dims(img, axis=2)\n",
    "# new_img.shape\n",
    "\n",
    "test_predict = model.predict([[new_img]])\n",
    "#test_predict\n",
    "print(test_predict)\n",
    "temp = test_predict.flatten()\n",
    "max = 0\n",
    "index = -1\n",
    "for i in range(temp.size):\n",
    "    if temp[i] > max:\n",
    "        max=temp[i]\n",
    "        index=i     \n",
    "\n",
    "print(\"\\nThe number is: \",index)"
   ]
  },
  {
   "cell_type": "markdown",
   "metadata": {},
   "source": [
    "### Testing on Complete string"
   ]
  },
  {
   "cell_type": "code",
   "execution_count": 19,
   "metadata": {
    "colab": {
     "base_uri": "https://localhost:8080/",
     "height": 265
    },
    "colab_type": "code",
    "id": "FHjNsWGEEyKb",
    "outputId": "c434c2ff-1e54-41a2-e025-819fce84dec3"
   },
   "outputs": [
    {
     "name": "stdout",
     "output_type": "stream",
     "text": [
      "The String is:  51810062\n"
     ]
    }
   ],
   "source": [
    "string=\"\"\n",
    "for z in range(8):\n",
    "    path='C:/Users/Phantom/MajorProjectCode/images/extracted_images/mnist/'+str(z)+'.png'\n",
    "    img=mpimg.imread(path)\n",
    "    # img = mpimg.imread('/content/drive/My Drive/Colab Notebooks/8.jpeg')\n",
    "    # gray=np.invert(img)\n",
    "    # gray = rgb2gray(gray)\n",
    "#     plt.imshow(img, cmap=plt.get_cmap('gray'))\n",
    "#     plt.show()\n",
    "    # img.shape\n",
    "    new_img = np.expand_dims(img, axis=2)\n",
    "    # new_img.shape\n",
    "\n",
    "    test_predict = model.predict([[new_img]])\n",
    "    # test_predict\n",
    "#     print(test_predict)\n",
    "    temp = test_predict.flatten()\n",
    "    max = 0\n",
    "    index = -1\n",
    "    for i in range(temp.size):\n",
    "      if temp[i] > max:\n",
    "        max=temp[i]\n",
    "        index=i        \n",
    "    string=string+str(index)\n",
    "\n",
    "print(\"The String is: \",string)"
   ]
  },
  {
   "cell_type": "markdown",
   "metadata": {
    "colab_type": "text",
    "id": "seN--xdqCFiy"
   },
   "source": [
    "## Classification with Feedforward Neural Networks"
   ]
  },
  {
   "cell_type": "code",
   "execution_count": 20,
   "metadata": {
    "colab": {},
    "colab_type": "code",
    "id": "Y2npSGg2CWfn"
   },
   "outputs": [],
   "source": [
    "mnist = tf.keras.datasets.mnist\n",
    "\n",
    "(x_train, y_train), (x_test, y_test) = mnist.load_data()\n",
    "x_train, x_test = x_train / 255.0, x_test / 255.0"
   ]
  },
  {
   "cell_type": "code",
   "execution_count": 21,
   "metadata": {
    "colab": {},
    "colab_type": "code",
    "id": "UQ6rU5vXCieY"
   },
   "outputs": [],
   "source": [
    "model_dnn = tf.keras.models.Sequential([\n",
    "  tf.keras.layers.Flatten(input_shape=(28, 28)),\n",
    "  tf.keras.layers.Dense(128, activation='relu'),\n",
    "  tf.keras.layers.Dropout(0.2),\n",
    "  tf.keras.layers.Dense(10, activation='softmax')\n",
    "])\n",
    "\n",
    "model_dnn.compile(optimizer='adam',\n",
    "                  loss='sparse_categorical_crossentropy',\n",
    "                  metrics=['accuracy'])"
   ]
  },
  {
   "cell_type": "code",
   "execution_count": 22,
   "metadata": {
    "colab": {
     "base_uri": "https://localhost:8080/",
     "height": 289
    },
    "colab_type": "code",
    "id": "KkW0rwTUDDWP",
    "outputId": "8ae0c08d-5b45-4446-eea3-927a0b31cad0"
   },
   "outputs": [
    {
     "name": "stdout",
     "output_type": "stream",
     "text": [
      "Model: \"sequential_1\"\n",
      "_________________________________________________________________\n",
      "Layer (type)                 Output Shape              Param #   \n",
      "=================================================================\n",
      "flatten_1 (Flatten)          (None, 784)               0         \n",
      "_________________________________________________________________\n",
      "dense_2 (Dense)              (None, 128)               100480    \n",
      "_________________________________________________________________\n",
      "dropout (Dropout)            (None, 128)               0         \n",
      "_________________________________________________________________\n",
      "dense_3 (Dense)              (None, 10)                1290      \n",
      "=================================================================\n",
      "Total params: 101,770\n",
      "Trainable params: 101,770\n",
      "Non-trainable params: 0\n",
      "_________________________________________________________________\n"
     ]
    }
   ],
   "source": [
    "model_dnn.summary()"
   ]
  },
  {
   "cell_type": "code",
   "execution_count": 54,
   "metadata": {
    "colab": {
     "base_uri": "https://localhost:8080/",
     "height": 221
    },
    "colab_type": "code",
    "id": "scY0CDgyDHjH",
    "outputId": "64b8d7f5-1a73-494f-ac5c-b23bcbf082cd"
   },
   "outputs": [
    {
     "name": "stdout",
     "output_type": "stream",
     "text": [
      "Train on 60000 samples\n",
      "Epoch 1/5\n",
      "60000/60000 [==============================] - 9s 145us/sample - loss: 0.0319 - accuracy: 0.9889\n",
      "Epoch 2/5\n",
      "60000/60000 [==============================] - 9s 149us/sample - loss: 0.0298 - accuracy: 0.9897\n",
      "Epoch 3/5\n",
      "60000/60000 [==============================] - 8s 139us/sample - loss: 0.0284 - accuracy: 0.9902\n",
      "Epoch 4/5\n",
      "60000/60000 [==============================] - 10s 171us/sample - loss: 0.0272 - accuracy: 0.9906\n",
      "Epoch 5/5\n",
      "60000/60000 [==============================] - 10s 173us/sample - loss: 0.0267 - accuracy: 0.9906\n"
     ]
    },
    {
     "data": {
      "text/plain": [
       "<tensorflow.python.keras.callbacks.History at 0x2268a1367b8>"
      ]
     },
     "execution_count": 54,
     "metadata": {},
     "output_type": "execute_result"
    }
   ],
   "source": [
    "model_dnn.fit(x_train, y_train, epochs=5)"
   ]
  },
  {
   "cell_type": "code",
   "execution_count": 55,
   "metadata": {
    "colab": {
     "base_uri": "https://localhost:8080/",
     "height": 51
    },
    "colab_type": "code",
    "id": "D-T1qkSEDOih",
    "outputId": "6eaf72cd-7377-47e4-f38c-9c697007e243",
    "scrolled": false
   },
   "outputs": [
    {
     "name": "stdout",
     "output_type": "stream",
     "text": [
      "10000/10000 [==============================] - 1s 105us/sample - loss: 0.0767 - accuracy: 0.9810\n",
      "98.1000006198883 %\n"
     ]
    }
   ],
   "source": [
    "test_loss, test_acc = model_dnn.evaluate(x_test, y_test)\n",
    "print (test_acc*100, '%')"
   ]
  },
  {
   "cell_type": "code",
   "execution_count": 56,
   "metadata": {
    "colab": {
     "base_uri": "https://localhost:8080/",
     "height": 265
    },
    "colab_type": "code",
    "id": "XnWsCCi_EPpv",
    "outputId": "62f3fbc2-5d0e-4bd5-e1d1-745f9556eedd"
   },
   "outputs": [
    {
     "data": {
      "image/png": "[encoded data removed]",
      "text/plain": [
       "<Figure size 432x288 with 1 Axes>"
      ]
     },
     "metadata": {
      "needs_background": "light"
     },
     "output_type": "display_data"
    },
    {
     "data": {
      "image/png": "[encoded data removed]",
      "text/plain": [
       "<Figure size 432x288 with 1 Axes>"
      ]
     },
     "metadata": {
      "needs_background": "light"
     },
     "output_type": "display_data"
    },
    {
     "data": {
      "image/png": "[encoded data removed]",
      "text/plain": [
       "<Figure size 432x288 with 1 Axes>"
      ]
     },
     "metadata": {
      "needs_background": "light"
     },
     "output_type": "display_data"
    },
    {
     "data": {
      "image/png": "[encoded data removed]",
      "text/plain": [
       "<Figure size 432x288 with 1 Axes>"
      ]
     },
     "metadata": {
      "needs_background": "light"
     },
     "output_type": "display_data"
    },
    {
     "data": {
      "image/png": "[encoded data removed]",
      "text/plain": [
       "<Figure size 432x288 with 1 Axes>"
      ]
     },
     "metadata": {
      "needs_background": "light"
     },
     "output_type": "display_data"
    },
    {
     "data": {
      "image/png": "[encoded data removed]",
      "text/plain": [
       "<Figure size 432x288 with 1 Axes>"
      ]
     },
     "metadata": {
      "needs_background": "light"
     },
     "output_type": "display_data"
    },
    {
     "data": {
      "image/png": "[encoded data removed]",
      "text/plain": [
       "<Figure size 432x288 with 1 Axes>"
      ]
     },
     "metadata": {
      "needs_background": "light"
     },
     "output_type": "display_data"
    },
    {
     "data": {
      "image/png": "[encoded data removed]",
      "text/plain": [
       "<Figure size 432x288 with 1 Axes>"
      ]
     },
     "metadata": {
      "needs_background": "light"
     },
     "output_type": "display_data"
    },
    {
     "name": "stdout",
     "output_type": "stream",
     "text": [
      "The String is:  51810062\n"
     ]
    }
   ],
   "source": [
    "import numpy as np\n",
    "import matplotlib.pyplot as plt\n",
    "import matplotlib.image as mpimg\n",
    "\n",
    "def rgb2gray(rgb):\n",
    "  return np.dot(rgb[...,:3], [0.2989, 0.5870, 0.1140])\n",
    "\n",
    "string=\"\"\n",
    "\n",
    "for z in range(8):\n",
    "    path='C:/Users/Phantom/MajorProjectCode/images/extracted_images/mnist/'+str(z)+'.png'\n",
    "    img=mpimg.imread(path)\n",
    "    # img = mpimg.imread('/content/drive/My Drive/Colab Notebooks/8.jpeg')\n",
    "    # gray=np.invert(img)\n",
    "    # gray = rgb2gray(gray)\n",
    "    plt.imshow(img, cmap=plt.get_cmap('gray'))\n",
    "    plt.show()\n",
    "    # img.shape\n",
    "    new_img = np.expand_dims(img, axis=2)\n",
    "    # new_img.shape\n",
    "\n",
    "    test_predict = model.predict([[new_img]])\n",
    "#      test_predict\n",
    "#     print(test_predict)\n",
    "    temp = test_predict.flatten()\n",
    "    max = 0\n",
    "    index = -1\n",
    "    for i in range(temp.size):\n",
    "      if temp[i] > max:\n",
    "        max=temp[i]\n",
    "        index=i        \n",
    "    string=string+str(index)\n",
    "\n",
    "print(\"The String is: \",string)"
   ]
  }
 ],
 "metadata": {
  "accelerator": "GPU",
  "colab": {
   "collapsed_sections": [],
   "name": "Character_recognition.ipynb",
   "provenance": []
  },
  "kernelspec": {
   "display_name": "Python 3",
   "language": "python",
   "name": "python3"
  },
  "language_info": {
   "codemirror_mode": {
    "name": "ipython",
    "version": 3
   },
   "file_extension": ".py",
   "mimetype": "text/x-python",
   "name": "python",
   "nbconvert_exporter": "python",
   "pygments_lexer": "ipython3",
   "version": "3.7.3"
  }
 },
 "nbformat": 4,
 "nbformat_minor": 1
}
