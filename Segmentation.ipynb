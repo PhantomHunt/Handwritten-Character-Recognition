{
 "cells": [
  {
   "cell_type": "code",
   "execution_count": 4,
   "metadata": {},
   "outputs": [],
   "source": [
    "import argparse\n",
    "import cv2\n",
    "import numpy as np\n",
    "import matplotlib.pyplot as plt\n",
    "import matplotlib.image as mpimg\n",
    "import os\n",
    "import pandas as pd\n",
    "from PIL import Image"
   ]
  },
  {
   "cell_type": "code",
   "execution_count": 5,
   "metadata": {},
   "outputs": [],
   "source": [
    "def calculate_boc(Mother_list):\n",
    "    index_for_small_box = []\n",
    "    for big_box in range(0,len(Main_cord)):\n",
    "        box_b = Mother_list[big_box]\n",
    "        for small_box in range(0,len(Main_cord)):\n",
    "            if big_box != small_box:\n",
    "                box_s = Mother_list[small_box]\n",
    "                if box_b[0] < box_s[0] and box_s[2] < box_b[2]:\n",
    "                    #print(\"x_cordinates match\")\n",
    "                    if box_b[1] < box_s[1] and box_s[3] < box_b[3]:\n",
    "                        #print(\"Y coordinates matches\")\n",
    "                        index_for_small_box.append(small_box)\n",
    "                        #print(\"BIG BOX HERE IS:\")\n",
    "                        #print(box_b)\n",
    "                        #print(\"SMALL BOX HERE IS:\")\n",
    "                        #print(box_s)                        \n",
    "    return index_for_small_box\n",
    "\n",
    "\n",
    "def driver(Main_cord):\n",
    "    list1 = calculate_boc(Main_cord)\n",
    "#     print(len(list1))\n",
    "    final_list = []\n",
    "    for i in range(0,len(Main_cord)):\n",
    "        if i not in list1:\n",
    "            final_list.append(i)\n",
    "\n",
    "    final_coordinates = []\n",
    "    for i in final_list:\n",
    "        final_coordinates.append(Main_cord[i])\n",
    "    #print(final_coordinates)\n",
    "    return final_coordinates\n",
    "        "
   ]
  },
  {
   "cell_type": "code",
   "execution_count": 19,
   "metadata": {
    "scrolled": true
   },
   "outputs": [],
   "source": [
    "\n",
    "# def rgb2gray(rgb):\n",
    "#   return np.dot(rgb[...,:3], [0.2989, 0.5870, 0.1140])\n",
    "\n",
    "# load the image, clone it, and setup the mouse callback function\n",
    "image = cv2.imread('C:/Users/Phantom/MajorProjectCode/images/string.jpeg')\n",
    "(h, w) = image.shape[:2]\n",
    "image_size = h*w\n",
    "\n",
    "mser = cv2.MSER_create()\n",
    "mser.setMaxArea(int(image_size/2))\n",
    "mser.setMinArea(10)\n",
    "gray = cv2.cvtColor(image, cv2.COLOR_BGR2GRAY) #Converting to GrayScale\n",
    "_, bw = cv2.threshold(gray, 0.0, 255.0, cv2.THRESH_BINARY | cv2.THRESH_OTSU)\n",
    "regions, rects = mser.detectRegions(bw)\n",
    "\n",
    "l=len(regions)\n",
    "# print(regions)\n",
    "\n",
    "def sort_contours(regions):\n",
    "    boundingBoxes = [cv2.boundingRect(c) for c in regions]\n",
    "    (regions, boundingBoxes) = zip(*sorted(zip(regions, boundingBoxes)\n",
    "       , key=lambda b: b[1][0], reverse=False))\n",
    "    return regions\n",
    "    \n",
    "regions=sort_contours(regions)\n",
    "\n",
    "Main_cord=[]\n",
    "\n",
    "for i in range(l):   \n",
    "    x,y,w,h = cv2.boundingRect(regions[i])    \n",
    "#     print(\"coordinates:(\",x-10,\",\",y-10,\")\",\"(\",x+w+10,\",\",y+h+10,\")\")    \n",
    "    Main_cord.append([x-10,y-10,x+w+10,y+h+10])    \n",
    "    \n",
    "path='C:/Users/Phantom/MajorProjectCode/images/extracted_images/original/'    \n",
    "    \n",
    "#print(Main_cord)\n",
    "\n",
    "final_cord=driver(Main_cord)\n",
    "# print(final_cord)\n",
    "\n",
    "\n",
    "for cord,i in zip(final_cord,range(len(final_cord))):\n",
    "    x=cord[0]\n",
    "    y=cord[1]\n",
    "    w=cord[2]\n",
    "    z=cord[3]\n",
    "#     print(cord)\n",
    "#     img = cv2.rectangle(image,(x-10,y-10),(x+w+10,y+h+10),(128,128,128),0)\n",
    "    img = cv2.rectangle(image,(x,y),(w,z),(128,128,128),0)\n",
    "    gray = cv2.cvtColor(img, cv2.COLOR_BGR2GRAY)\n",
    "    (thresh, img_bin) = cv2.threshold(gray, 128.0, 255.0, cv2.THRESH_BINARY | cv2.THRESH_OTSU)\n",
    "    img = 255-img_bin\n",
    "#     plt.imshow(img, cmap=plt.get_cmap('gray'))    \n",
    "#     cv2.imwrite('{}.png'.format(i), img[y-10:y+h+10,x-10:x+w+10])\n",
    "    cv2.imwrite(path+'{}.png'.format(i), img[y:z,x:w])\n",
    "\n",
    "# for (x, y, w, h) in rects:\n",
    "#     img = cv2.rectangle(image, (x, y), (x+w, y+h), color=(255, 0, 255), thickness=1)\n",
    "#     print(\"coordinates:(\",x,\",\",y,\")\",\"(\",x+w,\",\",y+h,\")\")\n",
    "#     cv2.imwrite('{}.png'.format(i), img[y-10:y+h+10,x-10:x+w+10])\n",
    "    \n",
    "    \n"
   ]
  },
  {
   "cell_type": "code",
   "execution_count": 20,
   "metadata": {},
   "outputs": [],
   "source": [
    "def getListOfFiles():  \n",
    "    path='C:/Users/Phantom/MajorProjectCode/images/extracted_images/original'\n",
    "    path2='C:/Users/Phantom/MajorProjectCode/images/extracted_images/mnist'\n",
    "    files= os.listdir(path)\n",
    "    files.sort()\n",
    "    i=0\n",
    "    for file in files:\n",
    "        img = Image.open(path + '/' + file)\n",
    "#         img.show()\n",
    "        arr = np.array(img)\n",
    "#         print(arr.shape)\n",
    "        newsize = (28, 28) \n",
    "        img = img.resize(newsize) \n",
    "        arr = np.array(img)\n",
    "        new_img = Image.fromarray(arr)\n",
    "        new_img.save(path2 + '/' +str(i)+'.png')\n",
    "#         new_img.show()\n",
    "        i=i+1\n",
    "        \n"
   ]
  },
  {
   "cell_type": "code",
   "execution_count": 21,
   "metadata": {},
   "outputs": [
    {
     "name": "stdout",
     "output_type": "stream",
     "text": [
      "Successfully Extracted and Saved the characters of the string\n"
     ]
    }
   ],
   "source": [
    "getListOfFiles()\n",
    "\n",
    "print(\"Successfully Extracted and Saved the characters of the string\")"
   ]
  }
 ],
 "metadata": {
  "kernelspec": {
   "display_name": "Python 3",
   "language": "python",
   "name": "python3"
  },
  "language_info": {
   "codemirror_mode": {
    "name": "ipython",
    "version": 3
   },
   "file_extension": ".py",
   "mimetype": "text/x-python",
   "name": "python",
   "nbconvert_exporter": "python",
   "pygments_lexer": "ipython3",
   "version": "3.7.3"
  }
 },
 "nbformat": 4,
 "nbformat_minor": 2
}
